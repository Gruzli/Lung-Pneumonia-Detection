
# segment(image_path2, clip_limit, closing_size, acc)