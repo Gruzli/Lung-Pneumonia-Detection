{
 "cells": [
  {
   "cell_type": "code",
   "execution_count": 1,
   "metadata": {},
   "outputs": [
    {
     "name": "stdout",
     "output_type": "stream",
     "text": [
      "Renamed 1InitialMask\\img (1).jpeg to 1InitialMask\\1.jpeg\n",
      "Renamed 1InitialMask\\img (1).jpg to 1InitialMask\\2.jpg\n",
      "Renamed 1InitialMask\\img (1).png to 1InitialMask\\3.png\n",
      "Renamed 1InitialMask\\img (10).jpeg to 1InitialMask\\4.jpeg\n",
      "Renamed 1InitialMask\\img (10).jpg to 1InitialMask\\5.jpg\n",
      "Renamed 1InitialMask\\img (11).jpeg to 1InitialMask\\6.jpeg\n",
      "Renamed 1InitialMask\\img (11).jpg to 1InitialMask\\7.jpg\n",
      "Renamed 1InitialMask\\img (12).jpeg to 1InitialMask\\8.jpeg\n",
      "Renamed 1InitialMask\\img (12).jpg to 1InitialMask\\9.jpg\n",
      "Renamed 1InitialMask\\img (13).jpeg to 1InitialMask\\10.jpeg\n",
      "Renamed 1InitialMask\\img (13).jpg to 1InitialMask\\11.jpg\n",
      "Renamed 1InitialMask\\img (14).jpeg to 1InitialMask\\12.jpeg\n",
      "Renamed 1InitialMask\\img (14).jpg to 1InitialMask\\13.jpg\n",
      "Renamed 1InitialMask\\img (15).jpeg to 1InitialMask\\14.jpeg\n",
      "Renamed 1InitialMask\\img (16).jpeg to 1InitialMask\\15.jpeg\n",
      "Renamed 1InitialMask\\img (17).jpeg to 1InitialMask\\16.jpeg\n",
      "Renamed 1InitialMask\\img (18).jpeg to 1InitialMask\\17.jpeg\n",
      "Renamed 1InitialMask\\img (19).jpeg to 1InitialMask\\18.jpeg\n",
      "Renamed 1InitialMask\\img (2).jpeg to 1InitialMask\\19.jpeg\n",
      "Renamed 1InitialMask\\img (2).jpg to 1InitialMask\\20.jpg\n",
      "Renamed 1InitialMask\\img (2).png to 1InitialMask\\21.png\n",
      "Renamed 1InitialMask\\img (20).jpeg to 1InitialMask\\22.jpeg\n",
      "Renamed 1InitialMask\\img (21).jpeg to 1InitialMask\\23.jpeg\n",
      "Renamed 1InitialMask\\img (22).jpeg to 1InitialMask\\24.jpeg\n",
      "Renamed 1InitialMask\\img (23).jpeg to 1InitialMask\\25.jpeg\n",
      "Renamed 1InitialMask\\img (3).jpeg to 1InitialMask\\26.jpeg\n",
      "Renamed 1InitialMask\\img (3).jpg to 1InitialMask\\27.jpg\n",
      "Renamed 1InitialMask\\img (3).png to 1InitialMask\\28.png\n",
      "Renamed 1InitialMask\\img (4).jpeg to 1InitialMask\\29.jpeg\n",
      "Renamed 1InitialMask\\img (4).jpg to 1InitialMask\\30.jpg\n",
      "Renamed 1InitialMask\\img (4).png to 1InitialMask\\31.png\n",
      "Renamed 1InitialMask\\img (5).jpeg to 1InitialMask\\32.jpeg\n",
      "Renamed 1InitialMask\\img (5).jpg to 1InitialMask\\33.jpg\n",
      "Renamed 1InitialMask\\img (5).png to 1InitialMask\\34.png\n",
      "Renamed 1InitialMask\\img (6).jpeg to 1InitialMask\\35.jpeg\n",
      "Renamed 1InitialMask\\img (6).jpg to 1InitialMask\\36.jpg\n",
      "Renamed 1InitialMask\\img (6).png to 1InitialMask\\37.png\n",
      "Renamed 1InitialMask\\img (7).jpeg to 1InitialMask\\38.jpeg\n",
      "Renamed 1InitialMask\\img (7).jpg to 1InitialMask\\39.jpg\n",
      "Renamed 1InitialMask\\img (7).png to 1InitialMask\\40.png\n",
      "Renamed 1InitialMask\\img (8).jpeg to 1InitialMask\\41.jpeg\n",
      "Renamed 1InitialMask\\img (8).jpg to 1InitialMask\\42.jpg\n",
      "Renamed 1InitialMask\\img (8).png to 1InitialMask\\43.png\n",
      "Renamed 1InitialMask\\img (9).jpeg to 1InitialMask\\44.jpeg\n",
      "Renamed 1InitialMask\\img (9).jpg to 1InitialMask\\45.jpg\n",
      "Renamed 1InitialMask\\img (9).png to 1InitialMask\\46.png\n"
     ]
    }
   ],
   "source": [
    "import os\n",
    "\n",
    "def rename_files(folder_path):\n",
    "    # Get the list of files in the folder\n",
    "    files = os.listdir(folder_path)\n",
    "    \n",
    "    # Sort the files to ensure proper renaming\n",
    "    files.sort()\n",
    "    \n",
    "    # Iterate over the files and rename them\n",
    "    for i, file_name in enumerate(files, start=1):\n",
    "        # Construct the new file name\n",
    "        new_file_name = os.path.join(folder_path, f\"{i}{os.path.splitext(file_name)[1]}\")\n",
    "        \n",
    "        # Construct the old file name\n",
    "        old_file_name = os.path.join(folder_path, file_name)\n",
    "        \n",
    "        # Rename the file\n",
    "        os.rename(old_file_name, new_file_name)\n",
    "        print(f\"Renamed {old_file_name} to {new_file_name}\")\n",
    "\n",
    "# Example usage\n",
    "folder_path = \"1InitialMask\"\n",
    "rename_files(folder_path)\n"
   ]
  }
 ],
 "metadata": {
  "kernelspec": {
   "display_name": "Python 3",
   "language": "python",
   "name": "python3"
  },
  "language_info": {
   "codemirror_mode": {
    "name": "ipython",
    "version": 3
   },
   "file_extension": ".py",
   "mimetype": "text/x-python",
   "name": "python",
   "nbconvert_exporter": "python",
   "pygments_lexer": "ipython3",
   "version": "3.12.1"
  }
 },
 "nbformat": 4,
 "nbformat_minor": 2
}
